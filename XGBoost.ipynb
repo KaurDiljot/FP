{
 "cells": [
  {
   "cell_type": "code",
   "execution_count": 1,
   "metadata": {},
   "outputs": [],
   "source": [
    "import numpy as np\n",
    "import pandas as pd\n",
    "from sklearn.preprocessing import LabelEncoder\n",
    "from sklearn.model_selection import train_test_split\n",
    "import xgboost as xgb\n",
    "from sklearn.metrics import accuracy_score"
   ]
  },
  {
   "cell_type": "code",
   "execution_count": 3,
   "metadata": {},
   "outputs": [
    {
     "name": "stdout",
     "output_type": "stream",
     "text": [
      "Breast Cancer Dataset Shape: (569, 31)\n",
      "Iris Dataset Shape: (150, 5)\n",
      "Phishing Dataset Shape: (10000, 50)\n"
     ]
    }
   ],
   "source": [
    "from sklearn.datasets import load_breast_cancer, load_iris\n",
    "# Load breast cancer dataset from scikit-learn\n",
    "breast_cancer_data = load_breast_cancer()\n",
    "breast_cancer_df = pd.DataFrame(data=breast_cancer_data.data, columns=breast_cancer_data.feature_names)\n",
    "breast_cancer_df['target'] = breast_cancer_data.target\n",
    "\n",
    "# Load iris dataset from scikit-learn\n",
    "iris_data = load_iris()\n",
    "iris_df = pd.DataFrame(data=iris_data.data, columns=iris_data.feature_names)\n",
    "iris_df['target'] = iris_data.target\n",
    "\n",
    "# Load phishing dataset from local CSV file\n",
    "phishing_df = pd.read_csv(r'C:\\Users\\diljo\\Downloads\\Phishing_Legitimate_full.csv')\n",
    "\n",
    "# Display the shape of each dataset\n",
    "print(\"Breast Cancer Dataset Shape:\", breast_cancer_df.shape)\n",
    "print(\"Iris Dataset Shape:\", iris_df.shape)\n",
    "print(\"Phishing Dataset Shape:\", phishing_df.shape)"
   ]
  },
  {
   "cell_type": "code",
   "execution_count": 4,
   "metadata": {},
   "outputs": [],
   "source": [
    "# Breast Cancer dataset\n",
    "X_bc = breast_cancer_df.drop('target', axis=1)\n",
    "y_bc = breast_cancer_df['target']\n",
    "X_bc_train, X_bc_test, y_bc_train, y_bc_test = train_test_split(X_bc, y_bc, test_size=0.2, random_state=42)\n",
    "\n",
    "# Train XGBoost model on Breast Cancer dataset\n",
    "bc_dtrain = xgb.DMatrix(X_bc_train, label=y_bc_train)\n",
    "bc_dtest = xgb.DMatrix(X_bc_test, label=y_bc_test)\n",
    "params_bc = {'objective': 'binary:logistic', 'eval_metric': 'error'}\n",
    "num_rounds_bc = 100\n",
    "xgb_model_bc = xgb.train(params_bc, bc_dtrain, num_rounds_bc)"
   ]
  },
  {
   "cell_type": "code",
   "execution_count": 5,
   "metadata": {},
   "outputs": [
    {
     "name": "stdout",
     "output_type": "stream",
     "text": [
      "Breast Cancer XGBoost Accuracy: 0.956140350877193\n"
     ]
    }
   ],
   "source": [
    "# Predictions on Breast Cancer test set\n",
    "y_bc_pred = xgb_model_bc.predict(bc_dtest)\n",
    "y_bc_pred_labels = [round(value) for value in y_bc_pred]\n",
    "bc_accuracy = accuracy_score(y_bc_test, y_bc_pred_labels)\n",
    "print(\"Breast Cancer XGBoost Accuracy:\", bc_accuracy)"
   ]
  },
  {
   "cell_type": "code",
   "execution_count": 6,
   "metadata": {},
   "outputs": [],
   "source": [
    "# Iris dataset\n",
    "X_iris = iris_df.drop('target', axis=1)\n",
    "y_iris = iris_df['target']\n",
    "X_iris_train, X_iris_test, y_iris_train, y_iris_test = train_test_split(X_iris, y_iris, test_size=0.2, random_state=42)"
   ]
  },
  {
   "cell_type": "code",
   "execution_count": 7,
   "metadata": {},
   "outputs": [],
   "source": [
    "# Train XGBoost model on Iris dataset\n",
    "iris_dtrain = xgb.DMatrix(X_iris_train, label=y_iris_train)\n",
    "iris_dtest = xgb.DMatrix(X_iris_test, label=y_iris_test)\n",
    "params_iris = {'objective': 'multi:softmax', 'num_class': 3, 'eval_metric': 'merror'}\n",
    "num_rounds_iris = 100\n",
    "xgb_model_iris = xgb.train(params_iris, iris_dtrain, num_rounds_iris)"
   ]
  },
  {
   "cell_type": "code",
   "execution_count": 8,
   "metadata": {},
   "outputs": [
    {
     "name": "stdout",
     "output_type": "stream",
     "text": [
      "Iris XGBoost Accuracy: 1.0\n"
     ]
    }
   ],
   "source": [
    "# Predictions on Iris test set\n",
    "y_iris_pred = xgb_model_iris.predict(iris_dtest)\n",
    "iris_accuracy = accuracy_score(y_iris_test, y_iris_pred)\n",
    "print(\"Iris XGBoost Accuracy:\", iris_accuracy)"
   ]
  },
  {
   "cell_type": "code",
   "execution_count": 12,
   "metadata": {},
   "outputs": [],
   "source": [
    "# Split dataset into features (X) and target variable (y)\n",
    "X_phishing = phishing_df.drop(columns=['CLASS_LABEL'])\n",
    "y_phishing = phishing_df['CLASS_LABEL']\n",
    "\n",
    "# Split data into training and testing sets\n",
    "X_phishing_train, X_phishing_test, y_phishing_train, y_phishing_test = train_test_split(X_phishing, y_phishing, test_size=0.3, random_state=42)\n",
    "\n",
    "# Train XGBoost model\n",
    "phishing_dtrain = xgb.DMatrix(X_phishing_train, label=y_phishing_train)\n",
    "phishing_dtest = xgb.DMatrix(X_phishing_test, label=y_phishing_test)\n",
    "params_phishing = {'objective': 'binary:logistic', 'eval_metric': 'error'}\n",
    "num_rounds_phishing = 24\n",
    "xgb_model_phishing = xgb.train(params_phishing, phishing_dtrain, num_rounds_phishing)"
   ]
  },
  {
   "cell_type": "code",
   "execution_count": 14,
   "metadata": {},
   "outputs": [
    {
     "name": "stdout",
     "output_type": "stream",
     "text": [
      "Phishing Xgboost accuracy: 1.0\n"
     ]
    }
   ],
   "source": [
    "# Make predictions on the test data\n",
    "y_pred_phishing = xgb_model_phishing.predict(phishing_dtest)\n",
    "\n",
    "# Convert probabilities to binary predictions (0 or 1)\n",
    "y_pred_binary_phishing = [1 if pred > 0.5 else 0 for pred in y_pred_phishing]\n",
    "\n",
    "# Calculate accuracy\n",
    "accuracy_phishing = sum(y_pred_binary_phishing == y_phishing_test) / len(y_phishing_test)\n",
    "print(\"Phishing Xgboost accuracy:\", accuracy_phishing)"
   ]
  }
 ],
 "metadata": {
  "kernelspec": {
   "display_name": "base",
   "language": "python",
   "name": "python3"
  },
  "language_info": {
   "codemirror_mode": {
    "name": "ipython",
    "version": 3
   },
   "file_extension": ".py",
   "mimetype": "text/x-python",
   "name": "python",
   "nbconvert_exporter": "python",
   "pygments_lexer": "ipython3",
   "version": "3.10.9"
  }
 },
 "nbformat": 4,
 "nbformat_minor": 2
}
